{
 "cells": [
  {
   "cell_type": "markdown",
   "id": "74f3d570-289d-4662-bc08-d8ac4a7080fe",
   "metadata": {},
   "source": [
    "# Tornado Risk Visualization\n",
    "\n",
    "This visualization uses a gpu to plot households and tanks on a dashboard, with range slider features to show households that have a certain risk index range. Also we have included the elderly multiselect, and household/tank distance slider."
   ]
  },
  {
   "cell_type": "markdown",
   "id": "2571a645-26b7-4aac-bbff-29e85e60fa8d",
   "metadata": {
    "tags": []
   },
   "source": [
    "### Import Statements"
   ]
  },
  {
   "cell_type": "code",
   "execution_count": 3,
   "id": "7bd934ec-cb29-4936-bfc4-413d019860f1",
   "metadata": {},
   "outputs": [],
   "source": [
    "import geopandas as gpd\n",
    "\n",
    "import cuxfilter\n",
    "from cuxfilter.layouts import feature_and_five_edge, double_feature\n",
    "import cudf\n",
    "import numpy as np\n",
    "\n",
    "import holoviews as hv\n",
    "import pandas as pd\n",
    "\n",
    "from pyproj import Proj, Transformer\n",
    "\n"
   ]
  },
  {
   "cell_type": "markdown",
   "id": "9390290b-90f9-4710-9d0a-265fa73be647",
   "metadata": {
    "tags": []
   },
   "source": [
    "### Importing Hurricane Risk and Distance Data\n",
    "\n",
    "This is a preprocessed parquet file that includes the latitude and longitude of households and tanks that are already transformed into the 3857 projections. This file also contains the ```is_elderly``` variable that indicates if the point at a particular lat/lon is a household with elderly, a household without elderly, or a tank. ```distance_mi``` is the distance in miles between tanks and houses. "
   ]
  },
  {
   "cell_type": "code",
   "execution_count": 4,
   "id": "06963d92-10b6-49af-9fe1-2ef61d4c0ab5",
   "metadata": {},
   "outputs": [
    {
     "data": {
      "text/html": [
       "<div>\n",
       "<style scoped>\n",
       "    .dataframe tbody tr th:only-of-type {\n",
       "        vertical-align: middle;\n",
       "    }\n",
       "\n",
       "    .dataframe tbody tr th {\n",
       "        vertical-align: top;\n",
       "    }\n",
       "\n",
       "    .dataframe thead th {\n",
       "        text-align: right;\n",
       "    }\n",
       "</style>\n",
       "<table border=\"1\" class=\"dataframe\">\n",
       "  <thead>\n",
       "    <tr style=\"text-align: right;\">\n",
       "      <th></th>\n",
       "      <th>is_elderly</th>\n",
       "      <th>distance_mi</th>\n",
       "      <th>tornado_risk</th>\n",
       "      <th>lat_3857</th>\n",
       "      <th>lon_3857</th>\n",
       "    </tr>\n",
       "  </thead>\n",
       "  <tbody>\n",
       "    <tr>\n",
       "      <th>0</th>\n",
       "      <td>2</td>\n",
       "      <td>33.459368</td>\n",
       "      <td>14.512438</td>\n",
       "      <td>-8.509454e+06</td>\n",
       "      <td>5.101307e+06</td>\n",
       "    </tr>\n",
       "    <tr>\n",
       "      <th>1</th>\n",
       "      <td>2</td>\n",
       "      <td>28.501947</td>\n",
       "      <td>24.892845</td>\n",
       "      <td>-8.499018e+06</td>\n",
       "      <td>5.096218e+06</td>\n",
       "    </tr>\n",
       "    <tr>\n",
       "      <th>2</th>\n",
       "      <td>2</td>\n",
       "      <td>28.592896</td>\n",
       "      <td>24.892845</td>\n",
       "      <td>-8.496356e+06</td>\n",
       "      <td>5.099448e+06</td>\n",
       "    </tr>\n",
       "    <tr>\n",
       "      <th>3</th>\n",
       "      <td>2</td>\n",
       "      <td>33.876175</td>\n",
       "      <td>14.512438</td>\n",
       "      <td>-8.509963e+06</td>\n",
       "      <td>5.103102e+06</td>\n",
       "    </tr>\n",
       "    <tr>\n",
       "      <th>4</th>\n",
       "      <td>2</td>\n",
       "      <td>33.117674</td>\n",
       "      <td>14.512438</td>\n",
       "      <td>-8.508370e+06</td>\n",
       "      <td>5.099066e+06</td>\n",
       "    </tr>\n",
       "    <tr>\n",
       "      <th>...</th>\n",
       "      <td>...</td>\n",
       "      <td>...</td>\n",
       "      <td>...</td>\n",
       "      <td>...</td>\n",
       "      <td>...</td>\n",
       "    </tr>\n",
       "    <tr>\n",
       "      <th>53165525</th>\n",
       "      <td>0</td>\n",
       "      <td>215.000000</td>\n",
       "      <td>45.758161</td>\n",
       "      <td>-1.167972e+07</td>\n",
       "      <td>4.833652e+06</td>\n",
       "    </tr>\n",
       "    <tr>\n",
       "      <th>53165526</th>\n",
       "      <td>0</td>\n",
       "      <td>215.000000</td>\n",
       "      <td>45.758161</td>\n",
       "      <td>-1.167971e+07</td>\n",
       "      <td>4.833633e+06</td>\n",
       "    </tr>\n",
       "    <tr>\n",
       "      <th>53165527</th>\n",
       "      <td>0</td>\n",
       "      <td>215.000000</td>\n",
       "      <td>45.758161</td>\n",
       "      <td>-1.167971e+07</td>\n",
       "      <td>4.833691e+06</td>\n",
       "    </tr>\n",
       "    <tr>\n",
       "      <th>53165528</th>\n",
       "      <td>0</td>\n",
       "      <td>215.000000</td>\n",
       "      <td>45.758161</td>\n",
       "      <td>-1.167971e+07</td>\n",
       "      <td>4.833535e+06</td>\n",
       "    </tr>\n",
       "    <tr>\n",
       "      <th>53165529</th>\n",
       "      <td>0</td>\n",
       "      <td>215.000000</td>\n",
       "      <td>45.758161</td>\n",
       "      <td>-1.167972e+07</td>\n",
       "      <td>4.833535e+06</td>\n",
       "    </tr>\n",
       "  </tbody>\n",
       "</table>\n",
       "<p>53165530 rows × 5 columns</p>\n",
       "</div>"
      ],
      "text/plain": [
       "          is_elderly  distance_mi  tornado_risk      lat_3857      lon_3857\n",
       "0                  2    33.459368     14.512438 -8.509454e+06  5.101307e+06\n",
       "1                  2    28.501947     24.892845 -8.499018e+06  5.096218e+06\n",
       "2                  2    28.592896     24.892845 -8.496356e+06  5.099448e+06\n",
       "3                  2    33.876175     14.512438 -8.509963e+06  5.103102e+06\n",
       "4                  2    33.117674     14.512438 -8.508370e+06  5.099066e+06\n",
       "...              ...          ...           ...           ...           ...\n",
       "53165525           0   215.000000     45.758161 -1.167972e+07  4.833652e+06\n",
       "53165526           0   215.000000     45.758161 -1.167971e+07  4.833633e+06\n",
       "53165527           0   215.000000     45.758161 -1.167971e+07  4.833691e+06\n",
       "53165528           0   215.000000     45.758161 -1.167971e+07  4.833535e+06\n",
       "53165529           0   215.000000     45.758161 -1.167972e+07  4.833535e+06\n",
       "\n",
       "[53165530 rows x 5 columns]"
      ]
     },
     "execution_count": 4,
     "metadata": {},
     "output_type": "execute_result"
    }
   ],
   "source": [
    "df = pd.read_parquet('/hpc/group/codeplus22-vis/celine_data/tornado_risk.parquet')\n",
    "df"
   ]
  },
  {
   "cell_type": "markdown",
   "id": "95d56032-cc0d-4619-bb05-88654b9bc7ae",
   "metadata": {},
   "source": [
    "### Transforming the dataframe type\n",
    "\n",
    "Here, we are transforming the pandas dataframe into a cudf dataframe and then into a cuxfilter dataframe so that we can plot the points using the cuxfilter library."
   ]
  },
  {
   "cell_type": "code",
   "execution_count": 5,
   "id": "a9a14913-64ee-449a-8525-39fd5d38d162",
   "metadata": {},
   "outputs": [
    {
     "ename": "MemoryError",
     "evalue": "std::bad_alloc: out_of_memory: CUDA error at: /workspace/.conda-bld/work/include/rmm/mr/device/cuda_memory_resource.hpp:70: cudaErrorMemoryAllocation out of memory",
     "output_type": "error",
     "traceback": [
      "\u001b[0;31m---------------------------------------------------------------------------\u001b[0m",
      "\u001b[0;31mMemoryError\u001b[0m                               Traceback (most recent call last)",
      "Input \u001b[0;32mIn [5]\u001b[0m, in \u001b[0;36m<cell line: 1>\u001b[0;34m()\u001b[0m\n\u001b[0;32m----> 1\u001b[0m cdf \u001b[38;5;241m=\u001b[39m \u001b[43mcudf\u001b[49m\u001b[38;5;241;43m.\u001b[39;49m\u001b[43mDataFrame\u001b[49m\u001b[38;5;241;43m.\u001b[39;49m\u001b[43mfrom_pandas\u001b[49m\u001b[43m(\u001b[49m\u001b[43mdf\u001b[49m\u001b[43m)\u001b[49m\n",
      "File \u001b[0;32m/opt/conda/envs/rapids/lib/python3.9/contextlib.py:79\u001b[0m, in \u001b[0;36mContextDecorator.__call__.<locals>.inner\u001b[0;34m(*args, **kwds)\u001b[0m\n\u001b[1;32m     76\u001b[0m \u001b[38;5;129m@wraps\u001b[39m(func)\n\u001b[1;32m     77\u001b[0m \u001b[38;5;28;01mdef\u001b[39;00m \u001b[38;5;21minner\u001b[39m(\u001b[38;5;241m*\u001b[39margs, \u001b[38;5;241m*\u001b[39m\u001b[38;5;241m*\u001b[39mkwds):\n\u001b[1;32m     78\u001b[0m     \u001b[38;5;28;01mwith\u001b[39;00m \u001b[38;5;28mself\u001b[39m\u001b[38;5;241m.\u001b[39m_recreate_cm():\n\u001b[0;32m---> 79\u001b[0m         \u001b[38;5;28;01mreturn\u001b[39;00m \u001b[43mfunc\u001b[49m\u001b[43m(\u001b[49m\u001b[38;5;241;43m*\u001b[39;49m\u001b[43margs\u001b[49m\u001b[43m,\u001b[49m\u001b[43m \u001b[49m\u001b[38;5;241;43m*\u001b[39;49m\u001b[38;5;241;43m*\u001b[39;49m\u001b[43mkwds\u001b[49m\u001b[43m)\u001b[49m\n",
      "File \u001b[0;32m/opt/conda/envs/rapids/lib/python3.9/site-packages/cudf/core/dataframe.py:4547\u001b[0m, in \u001b[0;36mDataFrame.from_pandas\u001b[0;34m(cls, dataframe, nan_as_null)\u001b[0m\n\u001b[1;32m   4543\u001b[0m \u001b[38;5;28;01mfor\u001b[39;00m col_name, col_value \u001b[38;5;129;01min\u001b[39;00m dataframe\u001b[38;5;241m.\u001b[39mitems():\n\u001b[1;32m   4544\u001b[0m     \u001b[38;5;66;03m# necessary because multi-index can return multiple\u001b[39;00m\n\u001b[1;32m   4545\u001b[0m     \u001b[38;5;66;03m# columns for a single key\u001b[39;00m\n\u001b[1;32m   4546\u001b[0m     \u001b[38;5;28;01mif\u001b[39;00m \u001b[38;5;28mlen\u001b[39m(col_value\u001b[38;5;241m.\u001b[39mshape) \u001b[38;5;241m==\u001b[39m \u001b[38;5;241m1\u001b[39m:\n\u001b[0;32m-> 4547\u001b[0m         df[col_name] \u001b[38;5;241m=\u001b[39m \u001b[43mcolumn\u001b[49m\u001b[38;5;241;43m.\u001b[39;49m\u001b[43mas_column\u001b[49m\u001b[43m(\u001b[49m\n\u001b[1;32m   4548\u001b[0m \u001b[43m            \u001b[49m\u001b[43mcol_value\u001b[49m\u001b[38;5;241;43m.\u001b[39;49m\u001b[43marray\u001b[49m\u001b[43m,\u001b[49m\u001b[43m \u001b[49m\u001b[43mnan_as_null\u001b[49m\u001b[38;5;241;43m=\u001b[39;49m\u001b[43mnan_as_null\u001b[49m\n\u001b[1;32m   4549\u001b[0m \u001b[43m        \u001b[49m\u001b[43m)\u001b[49m\n\u001b[1;32m   4550\u001b[0m     \u001b[38;5;28;01melse\u001b[39;00m:\n\u001b[1;32m   4551\u001b[0m         vals \u001b[38;5;241m=\u001b[39m col_value\u001b[38;5;241m.\u001b[39mvalues\u001b[38;5;241m.\u001b[39mT\n",
      "File \u001b[0;32m/opt/conda/envs/rapids/lib/python3.9/site-packages/cudf/core/column/column.py:1966\u001b[0m, in \u001b[0;36mas_column\u001b[0;34m(arbitrary, nan_as_null, dtype, length)\u001b[0m\n\u001b[1;32m   1964\u001b[0m     data \u001b[38;5;241m=\u001b[39m as_column(pa\u001b[38;5;241m.\u001b[39mArray\u001b[38;5;241m.\u001b[39mfrom_pandas(arbitrary), dtype\u001b[38;5;241m=\u001b[39marb_dtype)\n\u001b[1;32m   1965\u001b[0m \u001b[38;5;28;01melse\u001b[39;00m:\n\u001b[0;32m-> 1966\u001b[0m     data \u001b[38;5;241m=\u001b[39m \u001b[43mas_column\u001b[49m\u001b[43m(\u001b[49m\n\u001b[1;32m   1967\u001b[0m \u001b[43m        \u001b[49m\u001b[43mpa\u001b[49m\u001b[38;5;241;43m.\u001b[39;49m\u001b[43marray\u001b[49m\u001b[43m(\u001b[49m\n\u001b[1;32m   1968\u001b[0m \u001b[43m            \u001b[49m\u001b[43marbitrary\u001b[49m\u001b[43m,\u001b[49m\n\u001b[1;32m   1969\u001b[0m \u001b[43m            \u001b[49m\u001b[43mfrom_pandas\u001b[49m\u001b[38;5;241;43m=\u001b[39;49m\u001b[38;5;28;43;01mTrue\u001b[39;49;00m\u001b[43m \u001b[49m\u001b[38;5;28;43;01mif\u001b[39;49;00m\u001b[43m \u001b[49m\u001b[43mnan_as_null\u001b[49m\u001b[43m \u001b[49m\u001b[38;5;129;43;01mis\u001b[39;49;00m\u001b[43m \u001b[49m\u001b[38;5;28;43;01mNone\u001b[39;49;00m\u001b[43m \u001b[49m\u001b[38;5;28;43;01melse\u001b[39;49;00m\u001b[43m \u001b[49m\u001b[43mnan_as_null\u001b[49m\u001b[43m,\u001b[49m\n\u001b[1;32m   1970\u001b[0m \u001b[43m        \u001b[49m\u001b[43m)\u001b[49m\u001b[43m,\u001b[49m\n\u001b[1;32m   1971\u001b[0m \u001b[43m        \u001b[49m\u001b[43mnan_as_null\u001b[49m\u001b[38;5;241;43m=\u001b[39;49m\u001b[43mnan_as_null\u001b[49m\u001b[43m,\u001b[49m\n\u001b[1;32m   1972\u001b[0m \u001b[43m    \u001b[49m\u001b[43m)\u001b[49m\n\u001b[1;32m   1973\u001b[0m \u001b[38;5;28;01mif\u001b[39;00m dtype \u001b[38;5;129;01mis\u001b[39;00m \u001b[38;5;129;01mnot\u001b[39;00m \u001b[38;5;28;01mNone\u001b[39;00m:\n\u001b[1;32m   1974\u001b[0m     data \u001b[38;5;241m=\u001b[39m data\u001b[38;5;241m.\u001b[39mastype(dtype)\n",
      "File \u001b[0;32m/opt/conda/envs/rapids/lib/python3.9/site-packages/cudf/core/column/column.py:1760\u001b[0m, in \u001b[0;36mas_column\u001b[0;34m(arbitrary, nan_as_null, dtype, length)\u001b[0m\n\u001b[1;32m   1754\u001b[0m \u001b[38;5;28;01mif\u001b[39;00m \u001b[38;5;28misinstance\u001b[39m(arbitrary, pa\u001b[38;5;241m.\u001b[39mlib\u001b[38;5;241m.\u001b[39mHalfFloatArray):\n\u001b[1;32m   1755\u001b[0m     \u001b[38;5;28;01mraise\u001b[39;00m \u001b[38;5;167;01mNotImplementedError\u001b[39;00m(\n\u001b[1;32m   1756\u001b[0m         \u001b[38;5;124m\"\u001b[39m\u001b[38;5;124mType casting from `float16` to `float32` is not \u001b[39m\u001b[38;5;124m\"\u001b[39m\n\u001b[1;32m   1757\u001b[0m         \u001b[38;5;124m\"\u001b[39m\u001b[38;5;124myet supported in pyarrow, see: \u001b[39m\u001b[38;5;124m\"\u001b[39m\n\u001b[1;32m   1758\u001b[0m         \u001b[38;5;124m\"\u001b[39m\u001b[38;5;124mhttps://issues.apache.org/jira/browse/ARROW-3802\u001b[39m\u001b[38;5;124m\"\u001b[39m\n\u001b[1;32m   1759\u001b[0m     )\n\u001b[0;32m-> 1760\u001b[0m col \u001b[38;5;241m=\u001b[39m \u001b[43mColumnBase\u001b[49m\u001b[38;5;241;43m.\u001b[39;49m\u001b[43mfrom_arrow\u001b[49m\u001b[43m(\u001b[49m\u001b[43marbitrary\u001b[49m\u001b[43m)\u001b[49m\n\u001b[1;32m   1762\u001b[0m \u001b[38;5;28;01mif\u001b[39;00m \u001b[38;5;28misinstance\u001b[39m(arbitrary, pa\u001b[38;5;241m.\u001b[39mNullArray):\n\u001b[1;32m   1763\u001b[0m     new_dtype \u001b[38;5;241m=\u001b[39m cudf\u001b[38;5;241m.\u001b[39mdtype(arbitrary\u001b[38;5;241m.\u001b[39mtype\u001b[38;5;241m.\u001b[39mto_pandas_dtype())\n",
      "File \u001b[0;32m/opt/conda/envs/rapids/lib/python3.9/site-packages/cudf/core/column/column.py:297\u001b[0m, in \u001b[0;36mColumnBase.from_arrow\u001b[0;34m(cls, array)\u001b[0m\n\u001b[1;32m    292\u001b[0m \u001b[38;5;28;01melif\u001b[39;00m \u001b[38;5;28misinstance\u001b[39m(\n\u001b[1;32m    293\u001b[0m     array\u001b[38;5;241m.\u001b[39mtype, pd\u001b[38;5;241m.\u001b[39mcore\u001b[38;5;241m.\u001b[39marrays\u001b[38;5;241m.\u001b[39m_arrow_utils\u001b[38;5;241m.\u001b[39mArrowIntervalType\n\u001b[1;32m    294\u001b[0m ):\n\u001b[1;32m    295\u001b[0m     \u001b[38;5;28;01mreturn\u001b[39;00m cudf\u001b[38;5;241m.\u001b[39mcore\u001b[38;5;241m.\u001b[39mcolumn\u001b[38;5;241m.\u001b[39mIntervalColumn\u001b[38;5;241m.\u001b[39mfrom_arrow(array)\n\u001b[0;32m--> 297\u001b[0m result \u001b[38;5;241m=\u001b[39m \u001b[43mlibcudf\u001b[49m\u001b[38;5;241;43m.\u001b[39;49m\u001b[43minterop\u001b[49m\u001b[38;5;241;43m.\u001b[39;49m\u001b[43mfrom_arrow\u001b[49m\u001b[43m(\u001b[49m\u001b[43mdata\u001b[49m\u001b[43m)\u001b[49m[\u001b[38;5;241m0\u001b[39m]\n\u001b[1;32m    299\u001b[0m \u001b[38;5;28;01mreturn\u001b[39;00m result\u001b[38;5;241m.\u001b[39m_with_type_metadata(cudf_dtype_from_pa_type(array\u001b[38;5;241m.\u001b[39mtype))\n",
      "File \u001b[0;32mcudf/_lib/interop.pyx:150\u001b[0m, in \u001b[0;36mcudf._lib.interop.from_arrow\u001b[0;34m()\u001b[0m\n",
      "\u001b[0;31mMemoryError\u001b[0m: std::bad_alloc: out_of_memory: CUDA error at: /workspace/.conda-bld/work/include/rmm/mr/device/cuda_memory_resource.hpp:70: cudaErrorMemoryAllocation out of memory"
     ]
    }
   ],
   "source": [
    "cdf = cudf.DataFrame.from_pandas(df) "
   ]
  },
  {
   "cell_type": "code",
   "execution_count": null,
   "id": "81d19f79-c561-43e2-85f8-c91a636c9058",
   "metadata": {},
   "outputs": [],
   "source": [
    "cux_df = cuxfilter.DataFrame.from_dataframe(cdf) "
   ]
  },
  {
   "cell_type": "markdown",
   "id": "6d756bf0-2f6a-4848-a402-50c9f07cb493",
   "metadata": {
    "tags": []
   },
   "source": [
    "### Creating multiselect label map and defining map color palette\n",
    "\n",
    "In the label map for the ```is_elderly``` multiselect, we are defining the labels for the values that equal 0, 1, and 2 respectively."
   ]
  },
  {
   "cell_type": "code",
   "execution_count": null,
   "id": "239b5f1c-6438-4098-b5a9-1daa59578e6a",
   "metadata": {},
   "outputs": [],
   "source": [
    "label_elderly = {0: 'Tank', 1: 'Elderly', \n",
    "             2: 'No Elderly'}\n",
    "\n",
    "from bokeh.palettes import Spectral11\n",
    "colors = list(Spectral11)\n",
    "colors.reverse()\n"
   ]
  },
  {
   "cell_type": "markdown",
   "id": "9fe29c01-669d-4d1b-9e61-c0d175d33e2d",
   "metadata": {},
   "source": [
    "### Defining charts\n",
    "\n",
    "Below, we are defining the four charts that will be plotted on our dashboard. In each chart, you can define the type of cuxfilter chart (```scatter```, ```multiselect```, ```range_slider```, ```drop_down```, etc.) and also specify the column that the chart is made on. The label map parameter specifies which label map the feature will pull from. "
   ]
  },
  {
   "cell_type": "code",
   "execution_count": null,
   "id": "71dad5cf-a2af-4c77-a1c0-ef54bc89a246",
   "metadata": {},
   "outputs": [],
   "source": [
    "household = cuxfilter.charts.scatter(x='lat_3857', y='lon_3857', pixel_shade_type='linear', color_palette = colors, aggregate_fn = 'max', aggregate_col = 'distance_mi', tile_provider=\"CartoDark\", title = 'Households and distances to nearest tank, with tornado risk slider', legend = True)\n",
    "\n",
    "elderly = cuxfilter.charts.multi_select('is_elderly', label_map = label_elderly)\n",
    "\n",
    "tornado_risk= cuxfilter.charts.range_slider('tornado_risk')\n",
    "\n",
    "dist = cuxfilter.charts.range_slider('distance_mi')\n"
   ]
  },
  {
   "cell_type": "markdown",
   "id": "85ac7076-58ac-45ae-af30-6ebbfd187390",
   "metadata": {},
   "source": [
    "### Plotting the charts on the dashboard\n",
    "\n",
    "The layout and sidebar parameter determines how the charts are oganized on the dashboard. Here we have put three charts as the sidebar, however, you could also place those three charts underneath the main chart by specifying feature and base under the layout feature."
   ]
  },
  {
   "cell_type": "code",
   "execution_count": null,
   "id": "b897cf3d-d676-4362-b098-ef3fd4757955",
   "metadata": {},
   "outputs": [],
   "source": [
    "d = cux_df.dashboard([household], sidebar = [elderly, tornado_risk, dist], layout = cuxfilter.layouts.feature_and_base, theme = cuxfilter.themes.rapids) \n"
   ]
  },
  {
   "cell_type": "markdown",
   "id": "ec455c27-cfd0-4474-baac-9c9f4c0f5e64",
   "metadata": {},
   "source": [
    "### Display the visualization"
   ]
  },
  {
   "cell_type": "code",
   "execution_count": null,
   "id": "cf02b87f-7122-4073-9dbc-5564a60f0476",
   "metadata": {},
   "outputs": [],
   "source": [
    "d.show()\n",
    "d.app(sidebar_width = 250)"
   ]
  },
  {
   "cell_type": "code",
   "execution_count": null,
   "id": "1592e305-99fd-499b-af68-8a9626135401",
   "metadata": {},
   "outputs": [],
   "source": []
  }
 ],
 "metadata": {
  "kernelspec": {
   "display_name": "rapids",
   "language": "python",
   "name": "rapids"
  },
  "language_info": {
   "codemirror_mode": {
    "name": "ipython",
    "version": 3
   },
   "file_extension": ".py",
   "mimetype": "text/x-python",
   "name": "python",
   "nbconvert_exporter": "python",
   "pygments_lexer": "ipython3",
   "version": "3.9.13"
  }
 },
 "nbformat": 4,
 "nbformat_minor": 5
}
