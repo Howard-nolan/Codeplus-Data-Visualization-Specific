{
 "cells": [
  {
   "cell_type": "markdown",
   "id": "74f3d570-289d-4662-bc08-d8ac4a7080fe",
   "metadata": {},
   "source": [
    "# Tornado Risk Visualization\n",
    "\n",
    "This visualization uses a gpu to plot households and tanks on a dashboard, with range slider features to show households that have a certain risk index range. Also we have included the elderly multiselect, and household/tank distance slider."
   ]
  },
  {
   "cell_type": "markdown",
   "id": "2571a645-26b7-4aac-bbff-29e85e60fa8d",
   "metadata": {
    "tags": []
   },
   "source": [
    "### Import Statements"
   ]
  },
  {
   "cell_type": "code",
   "execution_count": 1,
   "id": "7bd934ec-cb29-4936-bfc4-413d019860f1",
   "metadata": {},
   "outputs": [],
   "source": [
    "import geopandas as gpd\n",
    "\n",
    "import cuxfilter\n",
    "from cuxfilter.layouts import feature_and_five_edge, double_feature\n",
    "import cudf\n",
    "import numpy as np\n",
    "\n",
    "import holoviews as hv\n",
    "import pandas as pd\n",
    "\n",
    "from pyproj import Proj, Transformer\n",
    "\n"
   ]
  },
  {
   "cell_type": "markdown",
   "id": "9390290b-90f9-4710-9d0a-265fa73be647",
   "metadata": {
    "tags": []
   },
   "source": [
    "### Importing Earthquake Risk and Distance Data\n",
    "\n",
    "This is a preprocessed parquet file that includes the latitude and longitude of households and tanks that are already transformed into the 3857 projections. This file also contains the ```is_elderly``` variable that indicates if the point at a particular lat/lon is a household with elderly, a household without elderly, or a tank. ```distance_mi``` is the distance in miles between tanks and houses. "
   ]
  },
  {
   "cell_type": "code",
   "execution_count": 2,
   "id": "06963d92-10b6-49af-9fe1-2ef61d4c0ab5",
   "metadata": {},
   "outputs": [
    {
     "data": {
      "text/html": [
       "<div>\n",
       "<style scoped>\n",
       "    .dataframe tbody tr th:only-of-type {\n",
       "        vertical-align: middle;\n",
       "    }\n",
       "\n",
       "    .dataframe tbody tr th {\n",
       "        vertical-align: top;\n",
       "    }\n",
       "\n",
       "    .dataframe thead th {\n",
       "        text-align: right;\n",
       "    }\n",
       "</style>\n",
       "<table border=\"1\" class=\"dataframe\">\n",
       "  <thead>\n",
       "    <tr style=\"text-align: right;\">\n",
       "      <th></th>\n",
       "      <th>is_elderly</th>\n",
       "      <th>distance_mi</th>\n",
       "      <th>earthquake_risk</th>\n",
       "      <th>lat_3857</th>\n",
       "      <th>lon_3857</th>\n",
       "    </tr>\n",
       "  </thead>\n",
       "  <tbody>\n",
       "    <tr>\n",
       "      <th>0</th>\n",
       "      <td>2</td>\n",
       "      <td>33.459368</td>\n",
       "      <td>2.050670</td>\n",
       "      <td>-8.509454e+06</td>\n",
       "      <td>5.101307e+06</td>\n",
       "    </tr>\n",
       "    <tr>\n",
       "      <th>1</th>\n",
       "      <td>2</td>\n",
       "      <td>28.501947</td>\n",
       "      <td>4.881886</td>\n",
       "      <td>-8.499018e+06</td>\n",
       "      <td>5.096218e+06</td>\n",
       "    </tr>\n",
       "    <tr>\n",
       "      <th>2</th>\n",
       "      <td>2</td>\n",
       "      <td>28.592896</td>\n",
       "      <td>4.881886</td>\n",
       "      <td>-8.496356e+06</td>\n",
       "      <td>5.099448e+06</td>\n",
       "    </tr>\n",
       "    <tr>\n",
       "      <th>3</th>\n",
       "      <td>2</td>\n",
       "      <td>33.876175</td>\n",
       "      <td>2.050670</td>\n",
       "      <td>-8.509963e+06</td>\n",
       "      <td>5.103102e+06</td>\n",
       "    </tr>\n",
       "    <tr>\n",
       "      <th>4</th>\n",
       "      <td>2</td>\n",
       "      <td>33.117674</td>\n",
       "      <td>2.050670</td>\n",
       "      <td>-8.508370e+06</td>\n",
       "      <td>5.099066e+06</td>\n",
       "    </tr>\n",
       "    <tr>\n",
       "      <th>...</th>\n",
       "      <td>...</td>\n",
       "      <td>...</td>\n",
       "      <td>...</td>\n",
       "      <td>...</td>\n",
       "      <td>...</td>\n",
       "    </tr>\n",
       "    <tr>\n",
       "      <th>53165525</th>\n",
       "      <td>0</td>\n",
       "      <td>215.000000</td>\n",
       "      <td>7.743007</td>\n",
       "      <td>-1.167972e+07</td>\n",
       "      <td>4.833652e+06</td>\n",
       "    </tr>\n",
       "    <tr>\n",
       "      <th>53165526</th>\n",
       "      <td>0</td>\n",
       "      <td>215.000000</td>\n",
       "      <td>7.743007</td>\n",
       "      <td>-1.167971e+07</td>\n",
       "      <td>4.833633e+06</td>\n",
       "    </tr>\n",
       "    <tr>\n",
       "      <th>53165527</th>\n",
       "      <td>0</td>\n",
       "      <td>215.000000</td>\n",
       "      <td>7.743007</td>\n",
       "      <td>-1.167971e+07</td>\n",
       "      <td>4.833691e+06</td>\n",
       "    </tr>\n",
       "    <tr>\n",
       "      <th>53165528</th>\n",
       "      <td>0</td>\n",
       "      <td>215.000000</td>\n",
       "      <td>7.743007</td>\n",
       "      <td>-1.167971e+07</td>\n",
       "      <td>4.833535e+06</td>\n",
       "    </tr>\n",
       "    <tr>\n",
       "      <th>53165529</th>\n",
       "      <td>0</td>\n",
       "      <td>215.000000</td>\n",
       "      <td>7.743007</td>\n",
       "      <td>-1.167972e+07</td>\n",
       "      <td>4.833535e+06</td>\n",
       "    </tr>\n",
       "  </tbody>\n",
       "</table>\n",
       "<p>53165530 rows × 5 columns</p>\n",
       "</div>"
      ],
      "text/plain": [
       "          is_elderly  distance_mi  earthquake_risk      lat_3857      lon_3857\n",
       "0                  2    33.459368         2.050670 -8.509454e+06  5.101307e+06\n",
       "1                  2    28.501947         4.881886 -8.499018e+06  5.096218e+06\n",
       "2                  2    28.592896         4.881886 -8.496356e+06  5.099448e+06\n",
       "3                  2    33.876175         2.050670 -8.509963e+06  5.103102e+06\n",
       "4                  2    33.117674         2.050670 -8.508370e+06  5.099066e+06\n",
       "...              ...          ...              ...           ...           ...\n",
       "53165525           0   215.000000         7.743007 -1.167972e+07  4.833652e+06\n",
       "53165526           0   215.000000         7.743007 -1.167971e+07  4.833633e+06\n",
       "53165527           0   215.000000         7.743007 -1.167971e+07  4.833691e+06\n",
       "53165528           0   215.000000         7.743007 -1.167971e+07  4.833535e+06\n",
       "53165529           0   215.000000         7.743007 -1.167972e+07  4.833535e+06\n",
       "\n",
       "[53165530 rows x 5 columns]"
      ]
     },
     "execution_count": 2,
     "metadata": {},
     "output_type": "execute_result"
    }
   ],
   "source": [
    "df = pd.read_parquet('/hpc/group/codeplus22-vis/infousa_copy/earthquake_risk_final.parquet')\n",
    "df\n"
   ]
  },
  {
   "cell_type": "markdown",
   "id": "95d56032-cc0d-4619-bb05-88654b9bc7ae",
   "metadata": {},
   "source": [
    "### Transforming the dataframe type\n",
    "\n",
    "Here, we are transforming the pandas dataframe into a cudf dataframe and then into a cuxfilter dataframe so that we can plot the points using the cuxfilter library."
   ]
  },
  {
   "cell_type": "code",
   "execution_count": null,
   "id": "a9a14913-64ee-449a-8525-39fd5d38d162",
   "metadata": {},
   "outputs": [],
   "source": [
    "cdf = cudf.DataFrame.from_pandas(df) "
   ]
  },
  {
   "cell_type": "code",
   "execution_count": null,
   "id": "81d19f79-c561-43e2-85f8-c91a636c9058",
   "metadata": {},
   "outputs": [],
   "source": [
    "cux_df = cuxfilter.DataFrame.from_dataframe(cdf) "
   ]
  },
  {
   "cell_type": "markdown",
   "id": "6d756bf0-2f6a-4848-a402-50c9f07cb493",
   "metadata": {
    "tags": []
   },
   "source": [
    "### Creating multiselect label map and defining map color palette\n",
    "\n",
    "In the label map for the ```is_elderly``` multiselect, we are defining the labels for the values that equal 0, 1, and 2 respectively."
   ]
  },
  {
   "cell_type": "code",
   "execution_count": null,
   "id": "239b5f1c-6438-4098-b5a9-1daa59578e6a",
   "metadata": {},
   "outputs": [],
   "source": [
    "label_elderly = {0: 'Tank', 1: 'Elderly', \n",
    "             2: 'No Elderly'}\n",
    "\n",
    "from bokeh.palettes import Spectral11\n",
    "colors = list(Spectral11)\n",
    "colors.reverse()\n"
   ]
  },
  {
   "cell_type": "markdown",
   "id": "9fe29c01-669d-4d1b-9e61-c0d175d33e2d",
   "metadata": {},
   "source": [
    "### Defining charts\n",
    "\n",
    "Below, we are defining the four charts that will be plotted on our dashboard. In each chart, you can define the type of cuxfilter chart (```scatter```, ```multiselect```, ```range_slider```, ```drop_down```, etc.) and also specify the column that the chart is made on. The label map parameter specifies which label map the feature will pull from. "
   ]
  },
  {
   "cell_type": "code",
   "execution_count": null,
   "id": "71dad5cf-a2af-4c77-a1c0-ef54bc89a246",
   "metadata": {},
   "outputs": [],
   "source": [
    "household = cuxfilter.charts.scatter(x='lat_3857', y='lon_3857', pixel_shade_type='linear', color_palette = colors, aggregate_fn = 'max', aggregate_col = 'distance_mi', tile_provider=\"CartoDark\", title = 'Households and distances to nearest tank, with tornado risk slider', legend = True)\n",
    "\n",
    "elderly = cuxfilter.charts.multi_select('is_elderly', label_map = label_elderly)\n",
    "\n",
    "earthquake_risk= cuxfilter.charts.range_slider('earthquake_risk')\n",
    "\n",
    "dist = cuxfilter.charts.range_slider('distance_mi')\n"
   ]
  },
  {
   "cell_type": "markdown",
   "id": "85ac7076-58ac-45ae-af30-6ebbfd187390",
   "metadata": {},
   "source": [
    "### Plotting the charts on the dashboard\n",
    "\n",
    "The layout and sidebar parameter determines how the charts are oganized on the dashboard. Here we have put three charts as the sidebar, however, you could also place those three charts underneath the main chart by specifying feature and base under the layout feature."
   ]
  },
  {
   "cell_type": "code",
   "execution_count": null,
   "id": "b897cf3d-d676-4362-b098-ef3fd4757955",
   "metadata": {},
   "outputs": [],
   "source": [
    "d = cux_df.dashboard([household], sidebar = [elderly, earthquake_risk, dist], layout = cuxfilter.layouts.feature_and_base, theme = cuxfilter.themes.rapids) \n"
   ]
  },
  {
   "cell_type": "markdown",
   "id": "ec455c27-cfd0-4474-baac-9c9f4c0f5e64",
   "metadata": {},
   "source": [
    "### Display the visualization"
   ]
  },
  {
   "cell_type": "code",
   "execution_count": null,
   "id": "cf02b87f-7122-4073-9dbc-5564a60f0476",
   "metadata": {},
   "outputs": [],
   "source": [
    "d.show()\n",
    "d.app(sidebar_width = 250)"
   ]
  },
  {
   "cell_type": "code",
   "execution_count": null,
   "id": "1592e305-99fd-499b-af68-8a9626135401",
   "metadata": {},
   "outputs": [],
   "source": []
  }
 ],
 "metadata": {
  "kernelspec": {
   "display_name": "rapids",
   "language": "python",
   "name": "rapids"
  },
  "language_info": {
   "codemirror_mode": {
    "name": "ipython",
    "version": 3
   },
   "file_extension": ".py",
   "mimetype": "text/x-python",
   "name": "python",
   "nbconvert_exporter": "python",
   "pygments_lexer": "ipython3",
   "version": "3.9.13"
  }
 },
 "nbformat": 4,
 "nbformat_minor": 5
}
