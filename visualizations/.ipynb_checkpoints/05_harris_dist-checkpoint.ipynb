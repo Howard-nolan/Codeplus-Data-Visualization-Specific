{
 "cells": [
  {
   "cell_type": "markdown",
   "id": "f0494db9-d44a-4ce7-9d4d-143d879c5b2c",
   "metadata": {},
   "source": [
    "## Harris County Household and Tank Case Study"
   ]
  },
  {
   "cell_type": "markdown",
   "id": "2571a645-26b7-4aac-bbff-29e85e60fa8d",
   "metadata": {
    "tags": []
   },
   "source": [
    "### Import Statements\n",
    "\n",
    "Here we are importing different libraries and packages that we use to make our visualizations"
   ]
  },
  {
   "cell_type": "code",
   "execution_count": 1,
   "id": "7bd934ec-cb29-4936-bfc4-413d019860f1",
   "metadata": {},
   "outputs": [],
   "source": [
    "import geopandas as gpd\n",
    "\n",
    "import cuxfilter\n",
    "from cuxfilter.layouts import feature_and_five_edge, feature_and_double_base, feature_and_base\n",
    "import cudf\n",
    "import numpy as np\n",
    "\n",
    "import holoviews as hv\n",
    "import pandas as pd"
   ]
  },
  {
   "cell_type": "markdown",
   "id": "9390290b-90f9-4710-9d0a-265fa73be647",
   "metadata": {
    "tags": []
   },
   "source": [
    "### Importing HouseHold Distance Data\n",
    "\n",
    "This is a preprocessed file with distance between households in Harris county and tanks already calculated in miles. This dataframe also includes information as to whether the households have children, the age code of the head of household, the latitude and longitudes of the tanks and households, tank type, tank diameter, and distance, and if there are elderly in each household.\n",
    "\n",
    "The ```lat_3857``` and ```lon_3857``` coordinates will be the points we plot on our cuxfilter dashboard."
   ]
  },
  {
   "cell_type": "code",
   "execution_count": 2,
   "id": "be3621d4-55df-4cde-94bb-a965a7f1262b",
   "metadata": {},
   "outputs": [
    {
     "data": {
      "text/html": [
       "<div>\n",
       "<style scoped>\n",
       "    .dataframe tbody tr th:only-of-type {\n",
       "        vertical-align: middle;\n",
       "    }\n",
       "\n",
       "    .dataframe tbody tr th {\n",
       "        vertical-align: top;\n",
       "    }\n",
       "\n",
       "    .dataframe thead th {\n",
       "        text-align: right;\n",
       "    }\n",
       "</style>\n",
       "<table border=\"1\" class=\"dataframe\">\n",
       "  <thead>\n",
       "    <tr style=\"text-align: right;\">\n",
       "      <th></th>\n",
       "      <th>has_child</th>\n",
       "      <th>age_code</th>\n",
       "      <th>lat_3857</th>\n",
       "      <th>lon_3857</th>\n",
       "      <th>tank_type</th>\n",
       "      <th>diameter</th>\n",
       "      <th>distance_m</th>\n",
       "      <th>distance_mi</th>\n",
       "      <th>distance_category</th>\n",
       "      <th>is_elderly</th>\n",
       "    </tr>\n",
       "  </thead>\n",
       "  <tbody>\n",
       "    <tr>\n",
       "      <th>288</th>\n",
       "      <td>2</td>\n",
       "      <td>I</td>\n",
       "      <td>-1.062712e+07</td>\n",
       "      <td>3.477878e+06</td>\n",
       "      <td>closed_roof_tank</td>\n",
       "      <td>57.6</td>\n",
       "      <td>7996.077996</td>\n",
       "      <td>4.968533</td>\n",
       "      <td>3</td>\n",
       "      <td>2</td>\n",
       "    </tr>\n",
       "    <tr>\n",
       "      <th>291</th>\n",
       "      <td>1</td>\n",
       "      <td>G</td>\n",
       "      <td>-1.062858e+07</td>\n",
       "      <td>3.478481e+06</td>\n",
       "      <td>closed_roof_tank</td>\n",
       "      <td>57.6</td>\n",
       "      <td>8039.808899</td>\n",
       "      <td>4.995706</td>\n",
       "      <td>3</td>\n",
       "      <td>2</td>\n",
       "    </tr>\n",
       "    <tr>\n",
       "      <th>331</th>\n",
       "      <td>1</td>\n",
       "      <td>L</td>\n",
       "      <td>-1.062456e+07</td>\n",
       "      <td>3.475956e+06</td>\n",
       "      <td>closed_roof_tank</td>\n",
       "      <td>13.2</td>\n",
       "      <td>7966.516501</td>\n",
       "      <td>4.950164</td>\n",
       "      <td>3</td>\n",
       "      <td>1</td>\n",
       "    </tr>\n",
       "    <tr>\n",
       "      <th>365</th>\n",
       "      <td>2</td>\n",
       "      <td>M</td>\n",
       "      <td>-1.062815e+07</td>\n",
       "      <td>3.478845e+06</td>\n",
       "      <td>closed_roof_tank</td>\n",
       "      <td>57.6</td>\n",
       "      <td>7582.136264</td>\n",
       "      <td>4.711321</td>\n",
       "      <td>3</td>\n",
       "      <td>1</td>\n",
       "    </tr>\n",
       "    <tr>\n",
       "      <th>376</th>\n",
       "      <td>2</td>\n",
       "      <td>I</td>\n",
       "      <td>-1.062864e+07</td>\n",
       "      <td>3.478519e+06</td>\n",
       "      <td>closed_roof_tank</td>\n",
       "      <td>57.6</td>\n",
       "      <td>8036.693809</td>\n",
       "      <td>4.993770</td>\n",
       "      <td>3</td>\n",
       "      <td>2</td>\n",
       "    </tr>\n",
       "    <tr>\n",
       "      <th>...</th>\n",
       "      <td>...</td>\n",
       "      <td>...</td>\n",
       "      <td>...</td>\n",
       "      <td>...</td>\n",
       "      <td>...</td>\n",
       "      <td>...</td>\n",
       "      <td>...</td>\n",
       "      <td>...</td>\n",
       "      <td>...</td>\n",
       "      <td>...</td>\n",
       "    </tr>\n",
       "    <tr>\n",
       "      <th>2336530</th>\n",
       "      <td>0</td>\n",
       "      <td>None</td>\n",
       "      <td>-1.062105e+07</td>\n",
       "      <td>3.488964e+06</td>\n",
       "      <td>narrow_closed_roof_tank</td>\n",
       "      <td>4.2</td>\n",
       "      <td>NaN</td>\n",
       "      <td>35.000000</td>\n",
       "      <td>0</td>\n",
       "      <td>0</td>\n",
       "    </tr>\n",
       "    <tr>\n",
       "      <th>2336531</th>\n",
       "      <td>0</td>\n",
       "      <td>None</td>\n",
       "      <td>-1.062105e+07</td>\n",
       "      <td>3.488936e+06</td>\n",
       "      <td>narrow_closed_roof_tank</td>\n",
       "      <td>4.2</td>\n",
       "      <td>NaN</td>\n",
       "      <td>35.000000</td>\n",
       "      <td>0</td>\n",
       "      <td>0</td>\n",
       "    </tr>\n",
       "    <tr>\n",
       "      <th>2336532</th>\n",
       "      <td>0</td>\n",
       "      <td>None</td>\n",
       "      <td>-1.062105e+07</td>\n",
       "      <td>3.488927e+06</td>\n",
       "      <td>narrow_closed_roof_tank</td>\n",
       "      <td>4.8</td>\n",
       "      <td>NaN</td>\n",
       "      <td>35.000000</td>\n",
       "      <td>0</td>\n",
       "      <td>0</td>\n",
       "    </tr>\n",
       "    <tr>\n",
       "      <th>2336533</th>\n",
       "      <td>0</td>\n",
       "      <td>None</td>\n",
       "      <td>-1.061700e+07</td>\n",
       "      <td>3.488957e+06</td>\n",
       "      <td>closed_roof_tank</td>\n",
       "      <td>20.4</td>\n",
       "      <td>NaN</td>\n",
       "      <td>35.000000</td>\n",
       "      <td>0</td>\n",
       "      <td>0</td>\n",
       "    </tr>\n",
       "    <tr>\n",
       "      <th>2336534</th>\n",
       "      <td>0</td>\n",
       "      <td>None</td>\n",
       "      <td>-1.061703e+07</td>\n",
       "      <td>3.488956e+06</td>\n",
       "      <td>closed_roof_tank</td>\n",
       "      <td>21.6</td>\n",
       "      <td>NaN</td>\n",
       "      <td>35.000000</td>\n",
       "      <td>0</td>\n",
       "      <td>0</td>\n",
       "    </tr>\n",
       "  </tbody>\n",
       "</table>\n",
       "<p>1136386 rows × 10 columns</p>\n",
       "</div>"
      ],
      "text/plain": [
       "         has_child age_code      lat_3857      lon_3857  \\\n",
       "288              2        I -1.062712e+07  3.477878e+06   \n",
       "291              1        G -1.062858e+07  3.478481e+06   \n",
       "331              1        L -1.062456e+07  3.475956e+06   \n",
       "365              2        M -1.062815e+07  3.478845e+06   \n",
       "376              2        I -1.062864e+07  3.478519e+06   \n",
       "...            ...      ...           ...           ...   \n",
       "2336530          0     None -1.062105e+07  3.488964e+06   \n",
       "2336531          0     None -1.062105e+07  3.488936e+06   \n",
       "2336532          0     None -1.062105e+07  3.488927e+06   \n",
       "2336533          0     None -1.061700e+07  3.488957e+06   \n",
       "2336534          0     None -1.061703e+07  3.488956e+06   \n",
       "\n",
       "                       tank_type  diameter   distance_m  distance_mi  \\\n",
       "288             closed_roof_tank      57.6  7996.077996     4.968533   \n",
       "291             closed_roof_tank      57.6  8039.808899     4.995706   \n",
       "331             closed_roof_tank      13.2  7966.516501     4.950164   \n",
       "365             closed_roof_tank      57.6  7582.136264     4.711321   \n",
       "376             closed_roof_tank      57.6  8036.693809     4.993770   \n",
       "...                          ...       ...          ...          ...   \n",
       "2336530  narrow_closed_roof_tank       4.2          NaN    35.000000   \n",
       "2336531  narrow_closed_roof_tank       4.2          NaN    35.000000   \n",
       "2336532  narrow_closed_roof_tank       4.8          NaN    35.000000   \n",
       "2336533         closed_roof_tank      20.4          NaN    35.000000   \n",
       "2336534         closed_roof_tank      21.6          NaN    35.000000   \n",
       "\n",
       "         distance_category  is_elderly  \n",
       "288                      3           2  \n",
       "291                      3           2  \n",
       "331                      3           1  \n",
       "365                      3           1  \n",
       "376                      3           2  \n",
       "...                    ...         ...  \n",
       "2336530                  0           0  \n",
       "2336531                  0           0  \n",
       "2336532                  0           0  \n",
       "2336533                  0           0  \n",
       "2336534                  0           0  \n",
       "\n",
       "[1136386 rows x 10 columns]"
      ]
     },
     "execution_count": 2,
     "metadata": {},
     "output_type": "execute_result"
    }
   ],
   "source": [
    "df_harris = pd.read_parquet('/hpc/group/codeplus22-vis/celine_data/dist_harris.parquet')\n",
    "df_harris = df_harris[df_harris['distance_category'] != 4]\n",
    "df_harris"
   ]
  },
  {
   "cell_type": "markdown",
   "id": "5ee1b530-a329-4a75-aa2a-d1570f84c06b",
   "metadata": {
    "tags": []
   },
   "source": [
    "### Defining Charts\n",
    "\n",
    "Below, we have code for labeling the distance, elderly and children multiselects. Also, we have made a list for the four colors our points will be colored in on the map."
   ]
  },
  {
   "cell_type": "code",
   "execution_count": 3,
   "id": "b31f1d2f-7aaa-4081-9937-30cb204bf957",
   "metadata": {},
   "outputs": [],
   "source": [
    "label_map_distance = {0: 'Tank', 1: '0.5 miles away', \n",
    "             2: '1 mile away', 3: '5 miles away'}\n",
    "\n",
    "label_map_elderly = {0: 'Tank', 1: 'Elderly', \n",
    "             2: 'Not Elderly'}\n",
    "\n",
    "label_map_children = {0: 'Tank', 1: 'Children', \n",
    "             2: 'No Children'}\n",
    "\n",
    "colors = ['#05c1ff', '#ff0000', '#ff00a4', '#a11aeb']"
   ]
  },
  {
   "cell_type": "markdown",
   "id": "77e8e48a-4e4a-4df9-bceb-07813b24eba8",
   "metadata": {
    "tags": []
   },
   "source": [
    "### Transforming to cuxfilter dataframe\n",
    "\n",
    "We must transform the pandas dataframes into cudf dataframes so that we can plot them using cuxfilter."
   ]
  },
  {
   "cell_type": "code",
   "execution_count": 4,
   "id": "8898d182-2ed0-408c-a1d1-f108aeb10998",
   "metadata": {},
   "outputs": [
    {
     "ename": "RuntimeError",
     "evalue": "CUDA error encountered at: /workspace/.conda-bld/work/cpp/src/bitmask/null_mask.cu:93: 2 cudaErrorMemoryAllocation out of memory",
     "output_type": "error",
     "traceback": [
      "\u001b[0;31m---------------------------------------------------------------------------\u001b[0m",
      "\u001b[0;31mRuntimeError\u001b[0m                              Traceback (most recent call last)",
      "Input \u001b[0;32mIn [4]\u001b[0m, in \u001b[0;36m<cell line: 1>\u001b[0;34m()\u001b[0m\n\u001b[0;32m----> 1\u001b[0m cdf \u001b[38;5;241m=\u001b[39m \u001b[43mcudf\u001b[49m\u001b[38;5;241;43m.\u001b[39;49m\u001b[43mDataFrame\u001b[49m\u001b[38;5;241;43m.\u001b[39;49m\u001b[43mfrom_pandas\u001b[49m\u001b[43m(\u001b[49m\u001b[43mdf_harris\u001b[49m\u001b[43m)\u001b[49m\n",
      "File \u001b[0;32m/opt/conda/envs/rapids/lib/python3.9/contextlib.py:79\u001b[0m, in \u001b[0;36mContextDecorator.__call__.<locals>.inner\u001b[0;34m(*args, **kwds)\u001b[0m\n\u001b[1;32m     76\u001b[0m \u001b[38;5;129m@wraps\u001b[39m(func)\n\u001b[1;32m     77\u001b[0m \u001b[38;5;28;01mdef\u001b[39;00m \u001b[38;5;21minner\u001b[39m(\u001b[38;5;241m*\u001b[39margs, \u001b[38;5;241m*\u001b[39m\u001b[38;5;241m*\u001b[39mkwds):\n\u001b[1;32m     78\u001b[0m     \u001b[38;5;28;01mwith\u001b[39;00m \u001b[38;5;28mself\u001b[39m\u001b[38;5;241m.\u001b[39m_recreate_cm():\n\u001b[0;32m---> 79\u001b[0m         \u001b[38;5;28;01mreturn\u001b[39;00m \u001b[43mfunc\u001b[49m\u001b[43m(\u001b[49m\u001b[38;5;241;43m*\u001b[39;49m\u001b[43margs\u001b[49m\u001b[43m,\u001b[49m\u001b[43m \u001b[49m\u001b[38;5;241;43m*\u001b[39;49m\u001b[38;5;241;43m*\u001b[39;49m\u001b[43mkwds\u001b[49m\u001b[43m)\u001b[49m\n",
      "File \u001b[0;32m/opt/conda/envs/rapids/lib/python3.9/site-packages/cudf/core/dataframe.py:4547\u001b[0m, in \u001b[0;36mDataFrame.from_pandas\u001b[0;34m(cls, dataframe, nan_as_null)\u001b[0m\n\u001b[1;32m   4543\u001b[0m \u001b[38;5;28;01mfor\u001b[39;00m col_name, col_value \u001b[38;5;129;01min\u001b[39;00m dataframe\u001b[38;5;241m.\u001b[39mitems():\n\u001b[1;32m   4544\u001b[0m     \u001b[38;5;66;03m# necessary because multi-index can return multiple\u001b[39;00m\n\u001b[1;32m   4545\u001b[0m     \u001b[38;5;66;03m# columns for a single key\u001b[39;00m\n\u001b[1;32m   4546\u001b[0m     \u001b[38;5;28;01mif\u001b[39;00m \u001b[38;5;28mlen\u001b[39m(col_value\u001b[38;5;241m.\u001b[39mshape) \u001b[38;5;241m==\u001b[39m \u001b[38;5;241m1\u001b[39m:\n\u001b[0;32m-> 4547\u001b[0m         df[col_name] \u001b[38;5;241m=\u001b[39m \u001b[43mcolumn\u001b[49m\u001b[38;5;241;43m.\u001b[39;49m\u001b[43mas_column\u001b[49m\u001b[43m(\u001b[49m\n\u001b[1;32m   4548\u001b[0m \u001b[43m            \u001b[49m\u001b[43mcol_value\u001b[49m\u001b[38;5;241;43m.\u001b[39;49m\u001b[43marray\u001b[49m\u001b[43m,\u001b[49m\u001b[43m \u001b[49m\u001b[43mnan_as_null\u001b[49m\u001b[38;5;241;43m=\u001b[39;49m\u001b[43mnan_as_null\u001b[49m\n\u001b[1;32m   4549\u001b[0m \u001b[43m        \u001b[49m\u001b[43m)\u001b[49m\n\u001b[1;32m   4550\u001b[0m     \u001b[38;5;28;01melse\u001b[39;00m:\n\u001b[1;32m   4551\u001b[0m         vals \u001b[38;5;241m=\u001b[39m col_value\u001b[38;5;241m.\u001b[39mvalues\u001b[38;5;241m.\u001b[39mT\n",
      "File \u001b[0;32m/opt/conda/envs/rapids/lib/python3.9/site-packages/cudf/core/column/column.py:1966\u001b[0m, in \u001b[0;36mas_column\u001b[0;34m(arbitrary, nan_as_null, dtype, length)\u001b[0m\n\u001b[1;32m   1964\u001b[0m     data \u001b[38;5;241m=\u001b[39m as_column(pa\u001b[38;5;241m.\u001b[39mArray\u001b[38;5;241m.\u001b[39mfrom_pandas(arbitrary), dtype\u001b[38;5;241m=\u001b[39marb_dtype)\n\u001b[1;32m   1965\u001b[0m \u001b[38;5;28;01melse\u001b[39;00m:\n\u001b[0;32m-> 1966\u001b[0m     data \u001b[38;5;241m=\u001b[39m \u001b[43mas_column\u001b[49m\u001b[43m(\u001b[49m\n\u001b[1;32m   1967\u001b[0m \u001b[43m        \u001b[49m\u001b[43mpa\u001b[49m\u001b[38;5;241;43m.\u001b[39;49m\u001b[43marray\u001b[49m\u001b[43m(\u001b[49m\n\u001b[1;32m   1968\u001b[0m \u001b[43m            \u001b[49m\u001b[43marbitrary\u001b[49m\u001b[43m,\u001b[49m\n\u001b[1;32m   1969\u001b[0m \u001b[43m            \u001b[49m\u001b[43mfrom_pandas\u001b[49m\u001b[38;5;241;43m=\u001b[39;49m\u001b[38;5;28;43;01mTrue\u001b[39;49;00m\u001b[43m \u001b[49m\u001b[38;5;28;43;01mif\u001b[39;49;00m\u001b[43m \u001b[49m\u001b[43mnan_as_null\u001b[49m\u001b[43m \u001b[49m\u001b[38;5;129;43;01mis\u001b[39;49;00m\u001b[43m \u001b[49m\u001b[38;5;28;43;01mNone\u001b[39;49;00m\u001b[43m \u001b[49m\u001b[38;5;28;43;01melse\u001b[39;49;00m\u001b[43m \u001b[49m\u001b[43mnan_as_null\u001b[49m\u001b[43m,\u001b[49m\n\u001b[1;32m   1970\u001b[0m \u001b[43m        \u001b[49m\u001b[43m)\u001b[49m\u001b[43m,\u001b[49m\n\u001b[1;32m   1971\u001b[0m \u001b[43m        \u001b[49m\u001b[43mnan_as_null\u001b[49m\u001b[38;5;241;43m=\u001b[39;49m\u001b[43mnan_as_null\u001b[49m\u001b[43m,\u001b[49m\n\u001b[1;32m   1972\u001b[0m \u001b[43m    \u001b[49m\u001b[43m)\u001b[49m\n\u001b[1;32m   1973\u001b[0m \u001b[38;5;28;01mif\u001b[39;00m dtype \u001b[38;5;129;01mis\u001b[39;00m \u001b[38;5;129;01mnot\u001b[39;00m \u001b[38;5;28;01mNone\u001b[39;00m:\n\u001b[1;32m   1974\u001b[0m     data \u001b[38;5;241m=\u001b[39m data\u001b[38;5;241m.\u001b[39mastype(dtype)\n",
      "File \u001b[0;32m/opt/conda/envs/rapids/lib/python3.9/site-packages/cudf/core/column/column.py:1760\u001b[0m, in \u001b[0;36mas_column\u001b[0;34m(arbitrary, nan_as_null, dtype, length)\u001b[0m\n\u001b[1;32m   1754\u001b[0m \u001b[38;5;28;01mif\u001b[39;00m \u001b[38;5;28misinstance\u001b[39m(arbitrary, pa\u001b[38;5;241m.\u001b[39mlib\u001b[38;5;241m.\u001b[39mHalfFloatArray):\n\u001b[1;32m   1755\u001b[0m     \u001b[38;5;28;01mraise\u001b[39;00m \u001b[38;5;167;01mNotImplementedError\u001b[39;00m(\n\u001b[1;32m   1756\u001b[0m         \u001b[38;5;124m\"\u001b[39m\u001b[38;5;124mType casting from `float16` to `float32` is not \u001b[39m\u001b[38;5;124m\"\u001b[39m\n\u001b[1;32m   1757\u001b[0m         \u001b[38;5;124m\"\u001b[39m\u001b[38;5;124myet supported in pyarrow, see: \u001b[39m\u001b[38;5;124m\"\u001b[39m\n\u001b[1;32m   1758\u001b[0m         \u001b[38;5;124m\"\u001b[39m\u001b[38;5;124mhttps://issues.apache.org/jira/browse/ARROW-3802\u001b[39m\u001b[38;5;124m\"\u001b[39m\n\u001b[1;32m   1759\u001b[0m     )\n\u001b[0;32m-> 1760\u001b[0m col \u001b[38;5;241m=\u001b[39m \u001b[43mColumnBase\u001b[49m\u001b[38;5;241;43m.\u001b[39;49m\u001b[43mfrom_arrow\u001b[49m\u001b[43m(\u001b[49m\u001b[43marbitrary\u001b[49m\u001b[43m)\u001b[49m\n\u001b[1;32m   1762\u001b[0m \u001b[38;5;28;01mif\u001b[39;00m \u001b[38;5;28misinstance\u001b[39m(arbitrary, pa\u001b[38;5;241m.\u001b[39mNullArray):\n\u001b[1;32m   1763\u001b[0m     new_dtype \u001b[38;5;241m=\u001b[39m cudf\u001b[38;5;241m.\u001b[39mdtype(arbitrary\u001b[38;5;241m.\u001b[39mtype\u001b[38;5;241m.\u001b[39mto_pandas_dtype())\n",
      "File \u001b[0;32m/opt/conda/envs/rapids/lib/python3.9/site-packages/cudf/core/column/column.py:297\u001b[0m, in \u001b[0;36mColumnBase.from_arrow\u001b[0;34m(cls, array)\u001b[0m\n\u001b[1;32m    292\u001b[0m \u001b[38;5;28;01melif\u001b[39;00m \u001b[38;5;28misinstance\u001b[39m(\n\u001b[1;32m    293\u001b[0m     array\u001b[38;5;241m.\u001b[39mtype, pd\u001b[38;5;241m.\u001b[39mcore\u001b[38;5;241m.\u001b[39marrays\u001b[38;5;241m.\u001b[39m_arrow_utils\u001b[38;5;241m.\u001b[39mArrowIntervalType\n\u001b[1;32m    294\u001b[0m ):\n\u001b[1;32m    295\u001b[0m     \u001b[38;5;28;01mreturn\u001b[39;00m cudf\u001b[38;5;241m.\u001b[39mcore\u001b[38;5;241m.\u001b[39mcolumn\u001b[38;5;241m.\u001b[39mIntervalColumn\u001b[38;5;241m.\u001b[39mfrom_arrow(array)\n\u001b[0;32m--> 297\u001b[0m result \u001b[38;5;241m=\u001b[39m \u001b[43mlibcudf\u001b[49m\u001b[38;5;241;43m.\u001b[39;49m\u001b[43minterop\u001b[49m\u001b[38;5;241;43m.\u001b[39;49m\u001b[43mfrom_arrow\u001b[49m\u001b[43m(\u001b[49m\u001b[43mdata\u001b[49m\u001b[43m)\u001b[49m[\u001b[38;5;241m0\u001b[39m]\n\u001b[1;32m    299\u001b[0m \u001b[38;5;28;01mreturn\u001b[39;00m result\u001b[38;5;241m.\u001b[39m_with_type_metadata(cudf_dtype_from_pa_type(array\u001b[38;5;241m.\u001b[39mtype))\n",
      "File \u001b[0;32mcudf/_lib/interop.pyx:150\u001b[0m, in \u001b[0;36mcudf._lib.interop.from_arrow\u001b[0;34m()\u001b[0m\n",
      "\u001b[0;31mRuntimeError\u001b[0m: CUDA error encountered at: /workspace/.conda-bld/work/cpp/src/bitmask/null_mask.cu:93: 2 cudaErrorMemoryAllocation out of memory"
     ]
    }
   ],
   "source": [
    "cdf = cudf.DataFrame.from_pandas(df_harris) "
   ]
  },
  {
   "cell_type": "code",
   "execution_count": null,
   "id": "16396771-919e-4634-8dd7-da7439b608eb",
   "metadata": {},
   "outputs": [],
   "source": [
    "cux_df = cuxfilter.DataFrame.from_dataframe(cdf) "
   ]
  },
  {
   "cell_type": "markdown",
   "id": "a4b247f1-58be-4a81-84af-bfa5a63512ad",
   "metadata": {
    "tags": []
   },
   "source": [
    "### Making Cuxfilter Charts\n",
    "\n",
    "Here, we are defining the charts. The ```points``` chart is the main map with households and tanks plotted. The points for tanks and households are colored differently by specifying the ```aggregate_col```. We are specifying the column ```distance_category```  because in this column 0 represents tanks, 1 represents houses 0.5 to 1 miles away, 2 represents houses 1 to 5 miles away, and 3 represents households more than 5 miles away from a tank. Each of these 4 categories of points will have different colors, as specfied by the list of colors above.\n",
    "\n",
    "We are also defining our other multiselects and sliders here. The first parameter to these functions is column you want the multiselect or slider to be about.\n",
    "\n",
    "Finally, we are defining the dashboard, with the final layout we want for all of the charts, multiselects, and sliders."
   ]
  },
  {
   "cell_type": "code",
   "execution_count": null,
   "id": "70c80324-4707-48a7-8f5f-86c5689eb7e2",
   "metadata": {},
   "outputs": [],
   "source": [
    "points = cuxfilter.charts.scatter(x='lat_3857', y='lon_3857', pixel_shade_type='linear', color_palette = colors, aggregate_fn = 'max', aggregate_col = 'distance_category', tile_provider=\"CartoDark\", title = 'Households in Harris County in Close Proximity to Tanks',\n",
    "                                   x_range=(-13825798.514061378,-7542228.134036879), y_range=(2819963.842141629,6272600.009501693), legend = True)\n",
    "\n",
    "distance_category = cuxfilter.charts.multi_select('distance_category', label_map=label_map_distance)\n",
    "\n",
    "age = cuxfilter.charts.multi_select('is_elderly', label_map=label_map_elderly)\n",
    "\n",
    "children = cuxfilter.charts.multi_select('has_child', label_map=label_map_children)\n",
    "\n",
    "distance_slider = cuxfilter.charts.range_slider('distance_mi')"
   ]
  },
  {
   "cell_type": "code",
   "execution_count": null,
   "id": "9b737e64-1e5d-454c-afd1-1a75331424ed",
   "metadata": {},
   "outputs": [],
   "source": [
    "d = cux_df.dashboard([points, distance_slider], sidebar = [distance_category, age, children], layout = cuxfilter.layouts.feature_and_base, theme = cuxfilter.themes.rapids) "
   ]
  },
  {
   "cell_type": "markdown",
   "id": "83b735ca-a710-44b4-b700-67f69a5e982b",
   "metadata": {},
   "source": [
    "### Displaying interactive dashboard\n",
    "\n",
    "Running the commands below will get the dashboard to display."
   ]
  },
  {
   "cell_type": "code",
   "execution_count": 5,
   "id": "95b66bda-610d-42ac-a329-c0104f862481",
   "metadata": {},
   "outputs": [
    {
     "ename": "NameError",
     "evalue": "name 'd' is not defined",
     "output_type": "error",
     "traceback": [
      "\u001b[0;31m---------------------------------------------------------------------------\u001b[0m",
      "\u001b[0;31mNameError\u001b[0m                                 Traceback (most recent call last)",
      "Input \u001b[0;32mIn [5]\u001b[0m, in \u001b[0;36m<cell line: 1>\u001b[0;34m()\u001b[0m\n\u001b[0;32m----> 1\u001b[0m \u001b[43md\u001b[49m\u001b[38;5;241m.\u001b[39mshow()\n\u001b[1;32m      2\u001b[0m d\u001b[38;5;241m.\u001b[39mapp(sidebar_width\u001b[38;5;241m=\u001b[39m\u001b[38;5;241m290\u001b[39m)\n",
      "\u001b[0;31mNameError\u001b[0m: name 'd' is not defined"
     ]
    }
   ],
   "source": [
    "d.show()\n",
    "d.app(sidebar_width=290) # run the dashboard within the notebook ce"
   ]
  },
  {
   "cell_type": "code",
   "execution_count": null,
   "id": "e838b64a-0c12-4d54-80e1-73b72eb4be8a",
   "metadata": {},
   "outputs": [],
   "source": []
  }
 ],
 "metadata": {
  "kernelspec": {
   "display_name": "rapids",
   "language": "python",
   "name": "rapids"
  },
  "language_info": {
   "codemirror_mode": {
    "name": "ipython",
    "version": 3
   },
   "file_extension": ".py",
   "mimetype": "text/x-python",
   "name": "python",
   "nbconvert_exporter": "python",
   "pygments_lexer": "ipython3",
   "version": "3.9.13"
  }
 },
 "nbformat": 4,
 "nbformat_minor": 5
}
